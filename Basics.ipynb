{
 "cells": [
  {
   "cell_type": "code",
   "execution_count": 1,
   "metadata": {
    "collapsed": true
   },
   "outputs": [],
   "source": [
    "require 'nn';\n",
    "net = nn.Sequential()\n",
    "net:add(nn.SpatialConvolution(1, 6, 5, 5)) -- 1 input, 6 output, 5x5 kernel\n",
    "net:add(nn.SpatialMaxPooling(2, 2, 2, 2)) -- Max pooing that looks at 2x2 windows\n",
    "net:add(nn.SpatialConvolution(6, 16, 5, 5))\n",
    "net:add(nn.SpatialMaxPooling(2, 2, 2, 2))"
   ]
  },
  {
   "cell_type": "code",
   "execution_count": 3,
   "metadata": {
    "collapsed": false
   },
   "outputs": [
    {
     "data": {
      "text/plain": [
       "nn.Sequential {\n",
       "  [input -> (1) -> (2) -> (3) -> (4) -> output]\n",
       "  (1): nn.SpatialConvolution(1 -> 6, 5x5)\n",
       "  (2): nn.SpatialMaxPooling(2x2, 2,2)\n",
       "  (3): nn.SpatialConvolution(6 -> 16, 5x5)\n",
       "  (4): nn.SpatialMaxPooling(2x2, 2,2)\n",
       "}\n",
       "{\n",
       "  gradInput : DoubleTensor - empty\n",
       "  modules : \n",
       "    {\n",
       "      1 : \n",
       "        nn.SpatialConvolution(1 -> 6, 5x5)\n",
       "        {\n",
       "          dH : 1\n",
       "          dW : 1\n",
       "          nInputPlane : 1\n",
       "          output : DoubleTensor - empty\n",
       "          kH : 5\n",
       "          gradBias : DoubleTensor - size: 6\n",
       "          padH : 0\n",
       "          bias : DoubleTensor - size: 6\n",
       "          weight : DoubleTensor - size: 6x1x5x5\n",
       "          _type : torch.DoubleTensor\n",
       "          gradWeight : DoubleTensor - size: 6x1x5x5\n",
       "          padW : 0\n",
       "          nOutputPlane : 6\n",
       "          kW : 5\n",
       "          gradInput : DoubleTensor - empty\n",
       "        }\n",
       "      2 : \n",
       "        nn.SpatialMaxPooling(2x2, 2,2)\n",
       "        {\n",
       "          dH : 2\n",
       "          dW : 2\n",
       "          kW : 2\n",
       "          gradInput : DoubleTensor - empty\n",
       "          indices : DoubleTensor - empty\n",
       "          _type : torch.DoubleTensor\n",
       "          padH : 0\n",
       "          ceil_mode : false\n",
       "          output : DoubleTensor - empty\n",
       "          kH : 2\n",
       "          padW : 0\n",
       "        }\n",
       "      3 : \n",
       "        nn.SpatialConvolution(6 -> 16, 5x5)\n",
       "        {\n",
       "          dH : 1\n",
       "          dW : 1\n",
       "          nInputPlane : 6\n",
       "          output : DoubleTensor - empty\n",
       "          kH : 5\n",
       "          gradBias : DoubleTensor - size: 16\n",
       "          padH : 0\n",
       "          bias : DoubleTensor - size: 16\n",
       "          weight : DoubleTensor - size: 16x6x5x5\n",
       "          _type : torch.DoubleTensor\n",
       "          gradWeight : DoubleTensor - size: 16x6x5x5\n",
       "          padW : 0\n",
       "          nOutputPlane : 16\n",
       "          kW : 5\n",
       "          gradInput : DoubleTensor - empty\n",
       "        }\n",
       "      4 : \n",
       "        nn.SpatialMaxPooling(2x2, 2,2)\n",
       "        {\n",
       "          dH : 2\n",
       "          dW : 2\n",
       "          kW : 2\n",
       "          gradInput : DoubleTensor - empty\n",
       "          indices : DoubleTensor - empty\n",
       "          _type : torch.DoubleTensor\n",
       "          padH : 0\n",
       "          ceil_mode : false\n",
       "          output : DoubleTensor - empty\n",
       "          kH : 2\n",
       "          padW : 0\n",
       "        }\n",
       "    }\n",
       "  _type : torch.DoubleTensor\n",
       "  output : DoubleTensor - empty\n",
       "}\n"
      ]
     },
     "execution_count": 3,
     "metadata": {},
     "output_type": "execute_result"
    }
   ],
   "source": [
    "net"
   ]
  }
 ],
 "metadata": {
  "kernelspec": {
   "display_name": "iTorch",
   "language": "lua",
   "name": "itorch"
  },
  "language_info": {
   "name": "lua",
   "version": "5.1"
  }
 },
 "nbformat": 4,
 "nbformat_minor": 0
}
